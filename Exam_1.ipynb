{
  "cells": [
    {
      "cell_type": "markdown",
      "metadata": {
        "id": "view-in-github",
        "colab_type": "text"
      },
      "source": [
        "<a href=\"https://colab.research.google.com/github/monozi/CCDATRCL_EXAM_COM221/blob/main/Exam_1.ipynb\" target=\"_parent\"><img src=\"https://colab.research.google.com/assets/colab-badge.svg\" alt=\"Open In Colab\"/></a>"
      ]
    },
    {
      "cell_type": "markdown",
      "metadata": {
        "id": "yaz2B0KGFehP"
      },
      "source": [
        "# Midterm Exam 💛💙"
      ]
    },
    {
      "cell_type": "markdown",
      "metadata": {
        "id": "_DmK1ONEFehQ"
      },
      "source": [
        "**Instructions** ❗️❗️\n",
        "\n",
        "❌ Do not remove or modify the notebook **sections**, **subsections**, **exam questions** or **any text** in this python notebook\n",
        "\n",
        "✔️ Put your answer in the designated cells below each question"
      ]
    },
    {
      "cell_type": "markdown",
      "metadata": {
        "id": "TMCAXKWCFehR"
      },
      "source": [
        "## Search"
      ]
    },
    {
      "cell_type": "code",
      "execution_count": 370,
      "metadata": {
        "id": "Fy8nEBRRFehR"
      },
      "outputs": [],
      "source": [
        "def linearSearch(my_list, number):\n",
        "\n",
        "    index = 0\n",
        "\n",
        "    for i in my_list:\n",
        "\n",
        "        if my_list[index] == number:\n",
        "            return index\n",
        "\n",
        "        index = index + 1\n",
        "\n",
        "    return -1"
      ]
    },
    {
      "cell_type": "markdown",
      "metadata": {
        "id": "AjAevpueFehS"
      },
      "source": [
        "1. Using **linear search**, write a `findLargestIncrease()` function to find the largest increase in value between two adjacent numbers in your student number `(10 points)`\n",
        "\n",
        "    **Example:**\n",
        "\n",
        "    student_number = [2,0,2,2,6,2,5,1,9,3]\n",
        "\n",
        "    **Expected Output:**\n",
        "\n",
        "    findLargestIncrease(student_number)\n",
        "\n",
        "    Output: Between 1 and 9\n",
        "\n",
        "    **Explanation:**\n",
        "\n",
        "    From this student_number, the largest increase happened from number 1 to number 9"
      ]
    },
    {
      "cell_type": "code",
      "execution_count": 371,
      "metadata": {
        "id": "JE8nEfyJFehS",
        "colab": {
          "base_uri": "https://localhost:8080/"
        },
        "outputId": "0418f474-48ee-437b-984c-14e9b6be87f1"
      },
      "outputs": [
        {
          "output_type": "stream",
          "name": "stdout",
          "text": [
            "Student Number:  [2, 0, 2, 2, 1, 0, 3, 2, 6, 2]\n",
            "Output:  Between 0 and 3\n",
            "Explanation: From this student_number, the largest increase happened from number 0 - 9.\n"
          ]
        }
      ],
      "source": [
        "# put your answer here\n",
        "def findLargestIncrease(stud_num):\n",
        "    largest_increase = 0\n",
        "    first = 0\n",
        "    last = 0\n",
        "\n",
        "    for i in range(len(stud_num) - 1):\n",
        "        increase = stud_num[i + 1] - stud_num[i]\n",
        "\n",
        "        if increase > largest_increase:\n",
        "            largest_increase = increase\n",
        "            first = linearSearch(stud_num, stud_num[i])\n",
        "            last = linearSearch(stud_num, stud_num[i + 1])\n",
        "\n",
        "    if largest_increase > 0:\n",
        "        return f\"Between {student_number[first]} and {student_number[last]}\"\n",
        "    else:\n",
        "        return \"No increase happened between adjacent numbers!\"\n",
        "\n",
        "stud_num = [2, 0, 2, 2, 1, 0, 3, 2, 6, 2]\n",
        "print(\"Student Number: \", stud_num)\n",
        "output = findLargestIncrease(stud_num)\n",
        "print(\"Output: \", output)\n",
        "print(\"Explanation: From this student_number, the largest increase happened from number 0 - 9.\")"
      ]
    },
    {
      "cell_type": "markdown",
      "metadata": {
        "id": "nMyr1fNyFehS"
      },
      "source": [
        "2. Using **linear search**, write a `findLargestDecrease()` function to find the largest decrease in value between two adjacent numbers in your student number `(10 points)`\n",
        "\n",
        "    **Example:**\n",
        "\n",
        "    student_number = [2,0,2,2,6,2,5,1,9,3]\n",
        "\n",
        "    **Expected Output:**\n",
        "\n",
        "    findLargestDecrease(student_number)\n",
        "\n",
        "    Output: Between 9 and 3\n",
        "\n",
        "    **Explanation:**\n",
        "\n",
        "    From this student_number, the largest decrease happened from number 9 to number 3"
      ]
    },
    {
      "cell_type": "code",
      "execution_count": 372,
      "metadata": {
        "id": "bfMfQVbVFehS",
        "colab": {
          "base_uri": "https://localhost:8080/"
        },
        "outputId": "3e7dd49c-ab27-4c08-9c7e-e6b884dbf469"
      },
      "outputs": [
        {
          "output_type": "stream",
          "name": "stdout",
          "text": [
            "Student Number:  [2, 0, 2, 2, 1, 0, 3, 2, 6, 2]\n",
            "Output:  Between 3 and 0\n",
            "Explanation: From this student_number, the largest decrease happened from number 9 - 0.\n"
          ]
        }
      ],
      "source": [
        "# put your answer here\n",
        "def findLargestDecrease(stud_num):\n",
        "    largest_decrease = 0\n",
        "    first = 0\n",
        "    last = 0\n",
        "\n",
        "    for i in range(len(stud_num) - 1):\n",
        "        decrease = stud_num[i] - stud_num[i + 1]\n",
        "\n",
        "        if decrease > largest_decrease:\n",
        "            largest_decrease = decrease\n",
        "            first = linearSearch(stud_num, stud_num[i])\n",
        "            last = linearSearch(stud_num, stud_num[i + 1])\n",
        "\n",
        "    if largest_decrease > 0:\n",
        "        return f\"Between {student_number[first]} and {student_number[last]}\"\n",
        "    else:\n",
        "        return \"No decrease happened between adjacent numbers!\"\n",
        "\n",
        "stud_num = [2, 0, 2, 2, 1, 0, 3, 2, 6, 2]\n",
        "print(\"Student Number: \", stud_num)\n",
        "output = findLargestDecrease(stud_num)\n",
        "print(\"Output: \", output)\n",
        "print(\"Explanation: From this student_number, the largest decrease happened from number 9 - 0.\")"
      ]
    },
    {
      "cell_type": "markdown",
      "metadata": {
        "id": "NtKSQn9QFehS"
      },
      "source": [
        "## Linked List"
      ]
    },
    {
      "cell_type": "code",
      "execution_count": 373,
      "metadata": {
        "id": "0HP5zyJcFehS"
      },
      "outputs": [],
      "source": [
        "class Node:\n",
        "\n",
        "    def __init__(self, data):\n",
        "        self.data = data\n",
        "        self.next = None  # null"
      ]
    },
    {
      "cell_type": "code",
      "execution_count": 374,
      "metadata": {
        "id": "A-8Uefe7FehS"
      },
      "outputs": [],
      "source": [
        "class LinkedList:\n",
        "\n",
        "    def __init__(self):\n",
        "        self.head = None\n",
        "\n",
        "    def traverse(self, node):\n",
        "        while node:\n",
        "            print(node.data, end=\" -> \")\n",
        "            node = node.next"
      ]
    },
    {
      "cell_type": "markdown",
      "metadata": {
        "id": "uPgIJJuSFehT"
      },
      "source": [
        "**Instructions** ❗️❗️\n",
        "\n",
        "Use the pre-defined linked list class/functions to create a linked list"
      ]
    },
    {
      "cell_type": "markdown",
      "metadata": {
        "id": "WIwpW7Q2FehT"
      },
      "source": [
        "1. Create a Singly linked list named **num_list** and print all of its elements. `(5 points)`\n",
        "\n",
        "- **num_list** should contain all digits of your student number.\n",
        "\n",
        "    **Expected Output:**\n",
        "\n",
        "    print(num_list)\n",
        "\n",
        "    [2, 0, 2, 2, 1, 2, 3, 4, 5, 6]"
      ]
    },
    {
      "cell_type": "code",
      "execution_count": 375,
      "metadata": {
        "id": "Lihv0JPiFehT",
        "colab": {
          "base_uri": "https://localhost:8080/"
        },
        "outputId": "e9be8052-d24d-40b9-8353-b9389d121eef"
      },
      "outputs": [
        {
          "output_type": "stream",
          "name": "stdout",
          "text": [
            "2 -> 0 -> 2 -> 2 -> 1 -> 0 -> 3 -> 2 -> 6 -> 2 -> "
          ]
        }
      ],
      "source": [
        "# put your answer here\n",
        "\n",
        "#Instance of Linked List\n",
        "num_list = LinkedList()\n",
        "\n",
        "#Nodes\n",
        "num_list.head = Node('2')\n",
        "node_b = Node('0')\n",
        "node_c = Node('2')\n",
        "node_d = Node('2')\n",
        "node_e = Node('1')\n",
        "node_f = Node('0')\n",
        "node_g = Node('3')\n",
        "node_h = Node('2')\n",
        "node_i = Node('6')\n",
        "node_j = Node('2')\n",
        "\n",
        "#Connecting Nodes\n",
        "num_list.head.next = node_b\n",
        "node_b.next = node_c\n",
        "node_c.next = node_d\n",
        "node_d.next = node_e\n",
        "node_e.next = node_f\n",
        "node_f.next = node_g\n",
        "node_g.next = node_h\n",
        "node_h.next = node_i\n",
        "node_i.next = node_j\n",
        "node_j.next = None\n",
        "\n",
        "num_list.traverse(num_list.head)\n",
        "\n",
        "# while num_list.head != None:                #for \"print(num_list)\"\n",
        "#   print(num_list.head.data, end=\" \")\n",
        "#   num_list.head = num_list.head.next"
      ]
    },
    {
      "cell_type": "markdown",
      "metadata": {
        "id": "dqA2UYrYFehT"
      },
      "source": [
        "2. Write a `hasPrime()` function to test whether a prime number is in the last six digits of **num_list**. `(5 points)`\n",
        "\n",
        "- If a prime number is in the last six digits of **num_list**, the method should return **true**\n",
        "\n",
        "- If a prime number is not in the last six digits of **num_list**, the method should return **false**\n",
        "\n",
        "    **Expected Output:**\n",
        "\n",
        "    hasPrime(num_list)\n",
        "\n",
        "    True"
      ]
    },
    {
      "cell_type": "code",
      "execution_count": 376,
      "metadata": {
        "id": "GYwsQNz5FehT",
        "colab": {
          "base_uri": "https://localhost:8080/"
        },
        "outputId": "21a1af05-0612-4144-b42e-3e65832deb52"
      },
      "outputs": [
        {
          "output_type": "stream",
          "name": "stdout",
          "text": [
            "True\n"
          ]
        }
      ],
      "source": [
        "# put your answer here\n",
        "def isprime(num):\n",
        "  if num <= 1:\n",
        "    return False\n",
        "  if num <= 3:\n",
        "    return True\n",
        "  if num % 2 == 0 or num % 3 == 0:\n",
        "    return False\n",
        "  i = 5\n",
        "  while i * i <= num:\n",
        "    if num % i == 0 or num % (i + 2) == 0:\n",
        "      return False\n",
        "    i += 6\n",
        "  return True\n",
        "\n",
        "def hasPrime(num_list):\n",
        "  latest_node = num_list.head\n",
        "  last_six_digits = []\n",
        "\n",
        "  while len(last_six_digits) < 6 and latest_node:\n",
        "    last_six_digits.append(latest_node.data)\n",
        "    latest_node = latest_node.next\n",
        "\n",
        "  for digit in last_six_digits:\n",
        "    if isprime(digit):\n",
        "        return True\n",
        "  return False\n",
        "\n",
        "student_number = [2, 0, 2, 2, 1, 0, 3, 2, 6, 2]\n",
        "num_list = LinkedList()\n",
        "for digit in student_number:\n",
        "    new_node = Node(digit)\n",
        "    if not num_list.head:\n",
        "        num_list.head = new_node\n",
        "    else:\n",
        "        current_node = num_list.head\n",
        "        while current_node.next:\n",
        "            current_node = current_node.next\n",
        "        current_node.next = new_node\n",
        "\n",
        "output = hasPrime(num_list)\n",
        "print(output)"
      ]
    },
    {
      "cell_type": "markdown",
      "metadata": {
        "id": "5Qb0BOiwFehT"
      },
      "source": [
        "3. Write a `removeZeroes()` function to remove all occurrences of zeroes in **num_list**. `(5 points)`\n",
        "\n",
        "- If a zero is in **num_list**, return **num_list**\n",
        "\n",
        "- If there are no zeroes in **num_list**, return **\"no zeros found\"**\n",
        "\n",
        "    **Expected Output:**\n",
        "\n",
        "    removeZeroes(num_list)\n",
        "\n",
        "    [2, 2, 1, 2, 3, 4, 5, 6]"
      ]
    },
    {
      "cell_type": "code",
      "execution_count": 377,
      "metadata": {
        "id": "k1vAHUYuFehT",
        "colab": {
          "base_uri": "https://localhost:8080/"
        },
        "outputId": "b1f3f404-3074-4050-d1fc-72987b3f2c3d"
      },
      "outputs": [
        {
          "output_type": "stream",
          "name": "stdout",
          "text": [
            "[2, 2, 2, 1, 3, 2, 6, 2]\n"
          ]
        }
      ],
      "source": [
        "# put your answer here\n",
        "def removeZeroes(num_list):\n",
        "    latest_node = num_list.head\n",
        "    prev_node = None\n",
        "\n",
        "    while latest_node:\n",
        "        if latest_node.data == 0:\n",
        "            if prev_node is None:\n",
        "                num_list.head = latest_node.next\n",
        "            else:\n",
        "                prev_node.next = latest_node.next\n",
        "        else:\n",
        "            prev_node = latest_node\n",
        "        latest_node = latest_node.next\n",
        "\n",
        "    if num_list.head is None:\n",
        "        return \"no zeros found\"\n",
        "\n",
        "    result = []\n",
        "    latest_node = num_list.head\n",
        "    while latest_node:\n",
        "        result.append(latest_node.data)\n",
        "        latest_node = latest_node.next\n",
        "\n",
        "    return result\n",
        "\n",
        "# Create a linked list for num_list and populate it with student_number\n",
        "num_list = LinkedList()\n",
        "student_number = [2, 0, 2, 2, 1, 0, 3, 2, 6, 2]\n",
        "for digit in student_number:\n",
        "    new_node = Node(digit)\n",
        "    if not num_list.head:\n",
        "        num_list.head = new_node\n",
        "    else:\n",
        "        current_node = num_list.head\n",
        "        while current_node.next:\n",
        "            current_node = current_node.next\n",
        "        current_node.next = new_node\n",
        "\n",
        "output = removeZeroes(num_list)\n",
        "print(output)"
      ]
    },
    {
      "cell_type": "markdown",
      "metadata": {
        "id": "SKAlpglNFehT"
      },
      "source": [
        "4. Insert a dash symbol between the 4th and 5th digit in **num_list**. `(5 points)`\n",
        "\n",
        "    **Expected Output:**\n",
        "\n",
        "    print(num_list)\n",
        "\n",
        "    [2, 0, 2, 2, \"-\", 1, 2, 3, 4, 5, 6]"
      ]
    },
    {
      "cell_type": "code",
      "execution_count": 378,
      "metadata": {
        "id": "vF7fimZ-FehT",
        "colab": {
          "base_uri": "https://localhost:8080/"
        },
        "outputId": "808b96dd-3193-49dc-a3ed-ca9ed0a32b41"
      },
      "outputs": [
        {
          "output_type": "stream",
          "name": "stdout",
          "text": [
            "2 -> 0 -> 2 -> 2 -> - -> 1 -> 0 -> 3 -> 2 -> 6 -> 2 -> "
          ]
        }
      ],
      "source": [
        "# put your answer here\n",
        "def insertDash(num_list):\n",
        "  recent_node = num_list.head\n",
        "  count = 1\n",
        "\n",
        "  while recent_node:\n",
        "    if count == 4:\n",
        "      new_node = Node(\"-\")\n",
        "      new_node.next = recent_node.next\n",
        "      recent_node.next = new_node\n",
        "      break\n",
        "    recent_node = recent_node.next\n",
        "    count += 1\n",
        "\n",
        "num_list = LinkedList()\n",
        "\n",
        "num_list.head = Node('2')\n",
        "node_b = Node('0')\n",
        "node_c = Node('2')\n",
        "node_d = Node('2')\n",
        "node_e = Node('1')\n",
        "node_f = Node('0')\n",
        "node_g = Node('3')\n",
        "node_h = Node('2')\n",
        "node_i = Node('6')\n",
        "node_j = Node('2')\n",
        "\n",
        "num_list.head.next = node_b\n",
        "node_b.next = node_c\n",
        "node_c.next = node_d\n",
        "node_d.next = node_e\n",
        "node_e.next = node_f\n",
        "node_f.next = node_g\n",
        "node_g.next = node_h\n",
        "node_h.next = node_i\n",
        "node_i.next = node_j\n",
        "node_j.next = None\n",
        "\n",
        "insertDash(num_list)\n",
        "num_list.traverse(num_list.head)"
      ]
    },
    {
      "cell_type": "markdown",
      "metadata": {
        "id": "KkC-LgdxFehT"
      },
      "source": [
        "## Stack"
      ]
    },
    {
      "cell_type": "code",
      "execution_count": 379,
      "metadata": {
        "id": "UYTqB1u_FehU"
      },
      "outputs": [],
      "source": [
        "# Creating a stack\n",
        "def create_stack():\n",
        "    stack = []\n",
        "    return stack\n",
        "\n",
        "\n",
        "def print_stack(stack):\n",
        "\n",
        "    if (check_empty(stack)):\n",
        "        return \"stack is empty\"\n",
        "\n",
        "    # Create a copy of the stack and reverse the elements\n",
        "    tempStack = stack.copy()\n",
        "    tempStack.reverse()\n",
        "\n",
        "    # Print all elements using a loop\n",
        "    for i in tempStack:\n",
        "        print(i)\n",
        "\n",
        "    # Delete the copy to free up memory\n",
        "    del tempStack\n",
        "\n",
        "# Creating an empty stack\n",
        "\n",
        "\n",
        "def check_empty(stack):\n",
        "    return len(stack) == 0\n",
        "\n",
        "\n",
        "# Adding items into the stack\n",
        "def push(stack, item):\n",
        "    stack.append(item)\n",
        "    print(\"pushed item: \" + item)\n",
        "\n",
        "\n",
        "# Removing an element from the stack\n",
        "def pop(stack):\n",
        "    if (check_empty(stack)):\n",
        "        return \"stack is empty\"\n",
        "\n",
        "    return stack.pop()\n",
        "\n",
        "\n",
        "def peek(stack):\n",
        "\n",
        "    # Use negative indexing to display the last element of the list\n",
        "    print(stack[-1])"
      ]
    },
    {
      "cell_type": "markdown",
      "metadata": {
        "id": "wLAQchs8FehU"
      },
      "source": [
        "**Instructions** ❗️❗️\n",
        "\n",
        "Use the pre-defined stack class/functions to create a stack"
      ]
    },
    {
      "cell_type": "markdown",
      "metadata": {
        "id": "37cg9BoCFehU"
      },
      "source": [
        "1. Create two (2) stacks named **name_stack** and **num_stack** `(5 points)`\n",
        "\n",
        "- **name_stack** should contain all letters of your first name.\n",
        "- **num_stack** should contain all digits of your student number.\n",
        "\n",
        "    **Expected Output:**\n",
        "\n",
        "    print(name_stack)\n",
        "\n",
        "    ['E', 'L', 'I', 'Z', 'E', 'R']\n",
        "\n",
        "    print(num_stack)\n",
        "\n",
        "    [2,0,2,2,1,2,3,4,5,6]"
      ]
    },
    {
      "cell_type": "code",
      "execution_count": 380,
      "metadata": {
        "id": "HlUIUQzQFehU",
        "colab": {
          "base_uri": "https://localhost:8080/"
        },
        "outputId": "3f9efe2e-48ee-4a41-e7fd-4e281a570081"
      },
      "outputs": [
        {
          "output_type": "stream",
          "name": "stdout",
          "text": [
            "pushed item: J\n",
            "pushed item: O\n",
            "pushed item: H\n",
            "pushed item: N\n",
            "pushed item: A\n",
            "pushed item: N\n",
            "pushed item: G\n",
            "pushed item: E\n",
            "pushed item: L\n",
            "pushed item: O\n",
            "pushed item: 2\n",
            "pushed item: 0\n",
            "pushed item: 2\n",
            "pushed item: 2\n",
            "pushed item: 1\n",
            "pushed item: 0\n",
            "pushed item: 3\n",
            "pushed item: 2\n",
            "pushed item: 6\n",
            "pushed item: 2\n",
            "\n",
            "name_stack =  ['J', 'O', 'H', 'N', 'A', 'N', 'G', 'E', 'L', 'O']\n",
            "num_stack =  ['2', '0', '2', '2', '1', '0', '3', '2', '6', '2']\n"
          ]
        }
      ],
      "source": [
        "# put your answer here\n",
        "name_stack = create_stack()\n",
        "first_name = [\"J\", \"O\", \"H\", \"N\", \"A\", \"N\", \"G\", \"E\", \"L\", \"O\"]\n",
        "\n",
        "num_stack = create_stack()\n",
        "stud_num = [2, 0, 2, 2, 1, 0, 3, 2, 6, 2]\n",
        "\n",
        "for letter in first_name:\n",
        "  push(name_stack, letter)\n",
        "\n",
        "for digit in stud_num:\n",
        "  push(num_stack, str(digit))\n",
        "\n",
        "print(\"\\nname_stack = \", name_stack)\n",
        "print(\"num_stack = \", num_stack)"
      ]
    },
    {
      "cell_type": "markdown",
      "metadata": {
        "id": "8cySe9LXFehU"
      },
      "source": [
        "2. Create a stack named **my_stack** that follows the following format: `(5 points)`\n",
        "\n",
        "- The first element should be the **5th digit in your student number**\n",
        "- The succeeding elements should be the letters of your **first name**\n",
        "- The last element should be the **last digit of your student number**\n",
        "\n",
        "    **Expected Output:**\n",
        "\n",
        "    my_stack = [1, E, L, I, Z, E, R, 6]"
      ]
    },
    {
      "cell_type": "code",
      "execution_count": 381,
      "metadata": {
        "id": "bEnCoAhjFehU",
        "colab": {
          "base_uri": "https://localhost:8080/"
        },
        "outputId": "3b3bff39-00d5-46d3-fd37-6a1df91326ee"
      },
      "outputs": [
        {
          "output_type": "stream",
          "name": "stdout",
          "text": [
            "pushed item: 1\n",
            "pushed item: J\n",
            "pushed item: O\n",
            "pushed item: H\n",
            "pushed item: N\n",
            "pushed item: A\n",
            "pushed item: N\n",
            "pushed item: G\n",
            "pushed item: E\n",
            "pushed item: L\n",
            "pushed item: O\n",
            "pushed item: 2\n",
            "\n",
            "my_stack =  ['1', 'J', 'O', 'H', 'N', 'A', 'N', 'G', 'E', 'L', 'O', '2']\n"
          ]
        }
      ],
      "source": [
        "# put your answer here\n",
        "first_name = [\"J\", \"O\", \"H\", \"N\", \"A\", \"N\", \"G\", \"E\", \"L\", \"O\"]\n",
        "student_number = [2, 0, 2, 2, 1, 0, 3, 2, 6, 2]\n",
        "\n",
        "my_stack = create_stack()\n",
        "\n",
        "push(my_stack, str(student_number[4]))\n",
        "for letter in first_name:\n",
        "  push(my_stack, letter)\n",
        "push(my_stack, str(student_number[-1]))\n",
        "\n",
        "print(\"\\nmy_stack = \", my_stack)"
      ]
    },
    {
      "cell_type": "markdown",
      "metadata": {
        "id": "8a8_KP5nFehU"
      },
      "source": [
        "3. Write a `verifyStack()` function that will take in `my_stack` and check if its format has been followed `(10 points)`\n",
        "\n",
        "- Return **True** if the format has been followed\n",
        "- Return **False** if the format was not followed\n",
        "- Verify the format by checking the contents of **my_stack** with **name_stack** and **num_stack**\n",
        "\n",
        "    **Expected Output:**\n",
        "\n",
        "    my_stack = [1, E, L, I, Z, E, R, 6]\n",
        "\n",
        "    verifyStack(my_stack)\n",
        "\n",
        "    True\n",
        "\n",
        "    my_stack = [1, S, L, I, Z, E, R, 7]\n",
        "\n",
        "    verifyStack(my_stack)\n",
        "\n",
        "    False"
      ]
    },
    {
      "cell_type": "code",
      "execution_count": 382,
      "metadata": {
        "id": "RdANSxD0FehU",
        "colab": {
          "base_uri": "https://localhost:8080/"
        },
        "outputId": "cdb34ac9-8779-4b45-966c-57c4289ea592"
      },
      "outputs": [
        {
          "output_type": "stream",
          "name": "stdout",
          "text": [
            "my_stack =  [1, 'J', 'O', 'H', 'N', 'A', 'N', 'G', 'E', 'L', 'O', 2]\n",
            "Verifying my_stack =  True\n",
            "\n",
            "my_stack =  [1, 'O', 'H', 'N', 'N', 'G', 'E', 'L', 'O', 3]\n",
            "Veryfying my_stack =  False\n"
          ]
        }
      ],
      "source": [
        "# put your answer here\n",
        "def verifyStack(my_stack):\n",
        "  name_stack = ['J', 'O', 'H', 'N', 'A', 'N', 'G', 'E', 'L', 'O']\n",
        "  num_stack = [1, 2]\n",
        "\n",
        "  if len(my_stack) != len(name_stack) + len(num_stack):\n",
        "    return False\n",
        "\n",
        "    for i in my_stack:\n",
        "      if i in name_stack:\n",
        "        name_stack.remove(i)\n",
        "      elif i in num_stack:\n",
        "        num_stack.remove(i)\n",
        "      else:\n",
        "        return False\n",
        "\n",
        "  return True\n",
        "\n",
        "first_stack = [1, 'J', 'O', 'H', 'N', 'A', 'N', 'G', 'E', 'L', 'O', 2]\n",
        "print(\"my_stack = \", first_stack)\n",
        "print(\"Verifying my_stack = \", verifyStack(first_stack))\n",
        "\n",
        "second_stack = [1, 'O', 'H', 'N', 'N', 'G', 'E', 'L', 'O', 3]\n",
        "print(\"\\nmy_stack = \", second_stack)\n",
        "print(\"Veryfying my_stack = \", verifyStack(second_stack))"
      ]
    },
    {
      "cell_type": "markdown",
      "metadata": {
        "id": "UC5C64B2FehU"
      },
      "source": [
        "## Queue"
      ]
    },
    {
      "cell_type": "code",
      "execution_count": 383,
      "metadata": {
        "id": "NJJ0j0LHFehU"
      },
      "outputs": [],
      "source": [
        "class Queue:\n",
        "    def __init__(self):\n",
        "        self.queue = []\n",
        "\n",
        "    # Add an element\n",
        "    def enqueue(self, item):\n",
        "        self.queue.append(item)\n",
        "\n",
        "    # Remove an element\n",
        "    def dequeue(self):\n",
        "        if len(self.queue) < 1:\n",
        "            return None\n",
        "        return self.queue.pop(0)\n",
        "\n",
        "    # Display  the queue\n",
        "    def display(self):\n",
        "        print(self.queue)\n",
        "\n",
        "    def size(self):\n",
        "        return len(self.queue)\n",
        "\n",
        "    def peek(self):\n",
        "        return self.queue[0]"
      ]
    },
    {
      "cell_type": "markdown",
      "metadata": {
        "id": "80OekpbeFehV"
      },
      "source": [
        "**Instructions** ❗️❗️\n",
        "\n",
        "Use the pre-defined queue class/functions to create a Queue"
      ]
    },
    {
      "cell_type": "markdown",
      "metadata": {
        "id": "_Hf0OP5cFehV"
      },
      "source": [
        "1. Create a simple queue named **num_queue** `(5 points)`\n",
        "\n",
        "- **num_queue** should contain all digits of your student number.\n",
        "\n",
        "    **Expected Output:**\n",
        "\n",
        "    print(num_queue)\n",
        "\n",
        "    [2,0,2,2,1,2,3,4,5,6]"
      ]
    },
    {
      "cell_type": "code",
      "execution_count": 384,
      "metadata": {
        "id": "_mgmE4ArFehV",
        "colab": {
          "base_uri": "https://localhost:8080/"
        },
        "outputId": "b5ddfb2c-e3ca-4713-9a51-e8669c5ccb26"
      },
      "outputs": [
        {
          "output_type": "stream",
          "name": "stdout",
          "text": [
            "My student number:  ['2', '0', '2', '2', '1', '0', '3', '2', '6', '2']\n"
          ]
        }
      ],
      "source": [
        "# put your answer here\n",
        "num_queue = Queue()\n",
        "\n",
        "num_queue.enqueue('2')\n",
        "num_queue.enqueue('0')\n",
        "num_queue.enqueue('2')\n",
        "num_queue.enqueue('2')\n",
        "num_queue.enqueue('1')\n",
        "num_queue.enqueue('0')\n",
        "num_queue.enqueue('3')\n",
        "num_queue.enqueue('2')\n",
        "num_queue.enqueue('6')\n",
        "num_queue.enqueue('2')\n",
        "\n",
        "print(\"My student number: \", num_queue.queue)"
      ]
    },
    {
      "cell_type": "markdown",
      "metadata": {
        "id": "1pHG8t6DFehV"
      },
      "source": [
        "2. Write a `getMax()` or `getMin()` function for **num_queue** `(5 points)`\n",
        "\n",
        "- If your student number ends with an odd number, create a `getMax()` function that will return the largest number in **num_queue**\n",
        "- If your student number ends with an even number, create a `getMin()` function that will return the lowest number in **num_queue**\n",
        "\n",
        "    **Expected Output for getMax():**\n",
        "\n",
        "    getMax(num_queue)\n",
        "\n",
        "    6\n",
        "\n",
        "    **Expected Output for getMin():**\n",
        "\n",
        "    getMin(num_queue)\n",
        "\n",
        "    0"
      ]
    },
    {
      "cell_type": "code",
      "execution_count": 385,
      "metadata": {
        "id": "itj2U610FehV",
        "colab": {
          "base_uri": "https://localhost:8080/"
        },
        "outputId": "6270d5b5-3e74-4255-c99d-11f7383b8055"
      },
      "outputs": [
        {
          "output_type": "stream",
          "name": "stdout",
          "text": [
            "Get minimum number: 0\n"
          ]
        }
      ],
      "source": [
        "# put your answer here\n",
        "def getMax(num_queue):\n",
        "  if num_queue.size() == 0:\n",
        "    return None\n",
        "  max_num = max(num_queue.queue)\n",
        "  return max_num\n",
        "\n",
        "def getMin(num_queue):\n",
        "  if num_queue.size() == 0:\n",
        "    return None\n",
        "  min_num = min(num_queue.queue)\n",
        "  return min_num\n",
        "\n",
        "num_queue = Queue()\n",
        "student_number = [2, 0, 2, 2, 1, 0, 3, 2, 6, 2]\n",
        "for i in student_number:\n",
        "  num_queue.enqueue(i)\n",
        "\n",
        "last_digit = student_number[-1]\n",
        "if last_digit % 2 == 0:\n",
        "  output = getMin(num_queue)\n",
        "  print(\"Get minimum number:\", output)\n",
        "else:\n",
        "  output = getMax(num_queue)\n",
        "  print(\"Get maximum number:\", output)"
      ]
    },
    {
      "cell_type": "markdown",
      "metadata": {
        "id": "YkgmP6GwFehV"
      },
      "source": [
        "3. Write a `getOdd()` or `getEven()` function for  **num_queue** `(5 points)`\n",
        "\n",
        "- If your student number ends with an **odd number**, create a `getOdd()` function that will return all odd numbers in **num_queue**\n",
        "- If your student number ends with an **even number**, create a `getEven()` function that will return all even numbers in **num_queue**\n",
        "\n",
        "    **Expected Output for getOdd():**\n",
        "\n",
        "    getOdd(num_queue)\n",
        "\n",
        "    [1, 3, 5]\n",
        "\n",
        "    **Expected Output for getEven():**\n",
        "\n",
        "    getEven(num_queue)\n",
        "\n",
        "    [0, 2, 4, 6]"
      ]
    },
    {
      "cell_type": "code",
      "execution_count": 386,
      "metadata": {
        "id": "2Bc7E1zNFehV",
        "colab": {
          "base_uri": "https://localhost:8080/"
        },
        "outputId": "95def80c-8340-4eea-8722-d737bf668fd6"
      },
      "outputs": [
        {
          "output_type": "stream",
          "name": "stdout",
          "text": [
            "[2, 0, 2, 2, 0, 2, 6, 2]\n"
          ]
        }
      ],
      "source": [
        "# put your answer here\n",
        "def getOdd(num_queue):\n",
        "    odd_numbers = []\n",
        "    for num in num_queue.queue:\n",
        "      if num % 2 == 1:\n",
        "        odd_numbers.append(num)\n",
        "    return odd_numbers\n",
        "\n",
        "def getEven(num_queue):\n",
        "    even_numbers = []\n",
        "    for num in num_queue.queue:\n",
        "      if num % 2 == 0:\n",
        "        even_numbers.append(num)\n",
        "    return even_numbers\n",
        "\n",
        "last_digit = student_number[-1]\n",
        "\n",
        "num_queue = Queue()\n",
        "student_number = [2, 0, 2, 2, 1, 0, 3, 2, 6, 2]\n",
        "for i in student_number:\n",
        "  num_queue.enqueue(i)\n",
        "\n",
        "if last_digit % 2 == 1:\n",
        "  output = getOdd(num_queue)\n",
        "  print(output)\n",
        "else:\n",
        "  output = getEven(num_queue)\n",
        "  print(output)"
      ]
    },
    {
      "cell_type": "markdown",
      "metadata": {
        "id": "kuzWF5g4FehV"
      },
      "source": [
        "4. Write a `removeDup()` function that will remove all duplicates in **num_queue** `(5 points)`\n",
        "\n",
        "    **Expected Output:**\n",
        "\n",
        "    removeDup(num_queue)\n",
        "\n",
        "    [2,0,1,3,4,5,6]"
      ]
    },
    {
      "cell_type": "code",
      "execution_count": 387,
      "metadata": {
        "id": "I8LeQP8MFehY",
        "colab": {
          "base_uri": "https://localhost:8080/"
        },
        "outputId": "34e9f081-f399-49c9-c64e-0eda8f85acba"
      },
      "outputs": [
        {
          "output_type": "stream",
          "name": "stdout",
          "text": [
            "[2, 0, 1, 3, 6]\n"
          ]
        }
      ],
      "source": [
        "# put your answer here\n",
        "def removeDup(old_queue):\n",
        "  unique_num = set()\n",
        "  new_queue = Queue()\n",
        "\n",
        "  while old_queue.size() > 0:\n",
        "    data = old_queue.dequeue()\n",
        "    if data not in unique_num:\n",
        "      unique_num.add(data)\n",
        "      new_queue.enqueue(data)\n",
        "\n",
        "  return new_queue\n",
        "\n",
        "num_queue = Queue()\n",
        "student_number = [2, 0, 2, 2, 1, 0, 3, 2, 6, 2]\n",
        "for n in student_number:\n",
        "  num_queue.enqueue(n)\n",
        "\n",
        "num_queue = removeDup(num_queue)\n",
        "num_queue.display()"
      ]
    },
    {
      "cell_type": "markdown",
      "metadata": {
        "id": "LVfZTh8YFehZ"
      },
      "source": [
        "## Sort"
      ]
    },
    {
      "cell_type": "markdown",
      "metadata": {
        "id": "bm9lonfzFehZ"
      },
      "source": [
        "**Instructions** ❗️❗️\n",
        "\n",
        "Use the any sorting algoritms"
      ]
    },
    {
      "cell_type": "markdown",
      "metadata": {
        "id": "EJTlxhEdFehZ"
      },
      "source": [
        "1. Using any sorting algorithm, sort the **last 6 digits** of your student number in ascending order `(5 points)`\n",
        "\n",
        "    **Example:**\n",
        "\n",
        "    student_number = [2,0,2,2,6,2,5,1,3,4]\n",
        "\n",
        "    **Expected Output:**\n",
        "\n",
        "    print(student_number)\n",
        "\n",
        "    [2,0,2,2,1,2,3,4,5,6]\n"
      ]
    },
    {
      "cell_type": "code",
      "execution_count": 388,
      "metadata": {
        "id": "MkZKfveOFehZ",
        "colab": {
          "base_uri": "https://localhost:8080/"
        },
        "outputId": "18a1803a-00a8-4766-d7f2-919d18b724c7"
      },
      "outputs": [
        {
          "output_type": "stream",
          "name": "stdout",
          "text": [
            "[2, 0, 2, 2, 0, 1, 2, 2, 3, 6]\n"
          ]
        }
      ],
      "source": [
        "# put your answer here\n",
        "def bubbleSort(array):\n",
        "\n",
        "  for i in range(len(array) - 1):\n",
        "    for j in range(len(array) - i - 1):\n",
        "      if array[j] > array[j + 1]:\n",
        "        array[j], array[j+1] = array[j+1], array[j]\n",
        "\n",
        "  return array\n",
        "\n",
        "student_number = [2, 0, 2, 2, 1, 0, 3, 2, 6, 2]\n",
        "student_number[-6:] = bubbleSort(student_number[-6:])\n",
        "print(student_number)"
      ]
    },
    {
      "cell_type": "markdown",
      "metadata": {
        "id": "sC2JZRZMFehZ"
      },
      "source": [
        "2. Using your student_number, separately sort the even numbers in **increasing order** and the odd numbers in **decreasing order** `(15 points)`\n",
        "\n",
        "    **Example:**\n",
        "\n",
        "    student_number = [2,0,2,2,1,2,3,4,5,6]\n",
        "\n",
        "    **Expected Output:**\n",
        "\n",
        "    print(student_number)\n",
        "\n",
        "    [0,2,2,2,2,4,6,5,3,1]"
      ]
    },
    {
      "cell_type": "code",
      "execution_count": 389,
      "metadata": {
        "id": "hWOh_ohcFehZ",
        "colab": {
          "base_uri": "https://localhost:8080/"
        },
        "outputId": "a6f86c16-a7df-445e-8fa2-85c2f66c8bcd"
      },
      "outputs": [
        {
          "output_type": "stream",
          "name": "stdout",
          "text": [
            "[0, 0, 2, 2, 2, 2, 2, 6, 3, 1]\n"
          ]
        }
      ],
      "source": [
        "# put your answer here\n",
        "def mergeSort(array, reverse=False):\n",
        "    if len(array) <= 1:\n",
        "        return array\n",
        "\n",
        "    mid = len(array) // 2\n",
        "    left = array[:mid]\n",
        "    right = array[mid:]\n",
        "\n",
        "    left = mergeSort(left, reverse)\n",
        "    right = mergeSort(right, reverse)\n",
        "\n",
        "    return merge(left, right, reverse)\n",
        "\n",
        "def merge(left, right, reverse=False):\n",
        "    merged_list = []\n",
        "    x = y = 0\n",
        "\n",
        "    while x < len(left) and y < len(right):\n",
        "        if (left[x] < right[y]) ^ reverse:\n",
        "            merged_list.append(left[x])\n",
        "            x += 1\n",
        "        else:\n",
        "            merged_list.append(right[y])\n",
        "            y += 1\n",
        "\n",
        "    merged_list.extend(left[x:])\n",
        "    merged_list.extend(right[y:])\n",
        "    return merged_list\n",
        "\n",
        "student_number = [2, 0, 2, 2, 1, 0, 3, 2, 6, 2]\n",
        "\n",
        "evenNum = [num for num in student_number if num % 2 == 0]\n",
        "oddNum = [num for num in student_number if num % 2 != 0]\n",
        "\n",
        "even_numbers_sorted = mergeSort(evenNum)\n",
        "odd_numbers_sorted = mergeSort(oddNum, reverse=True)\n",
        "\n",
        "student_number = even_numbers_sorted + odd_numbers_sorted\n",
        "\n",
        "print(student_number)"
      ]
    }
  ],
  "metadata": {
    "kernelspec": {
      "display_name": "Python 3",
      "language": "python",
      "name": "python3"
    },
    "language_info": {
      "codemirror_mode": {
        "name": "ipython",
        "version": 3
      },
      "file_extension": ".py",
      "mimetype": "text/x-python",
      "name": "python",
      "nbconvert_exporter": "python",
      "pygments_lexer": "ipython3",
      "version": "3.9.13"
    },
    "orig_nbformat": 4,
    "colab": {
      "provenance": [],
      "include_colab_link": true
    }
  },
  "nbformat": 4,
  "nbformat_minor": 0
}